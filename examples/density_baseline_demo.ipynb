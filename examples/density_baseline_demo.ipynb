{
 "cells": [
  {
   "cell_type": "markdown",
   "metadata": {},
   "source": [
    "# Demo of simple density-based imitation learning baselines\n",
    "\n",
    "This demo shows how to train a `Pendulum` agent (exciting!) with our simple density-based imitation learning baselines. `DensityTrainer` has a few interesting parameters, but the key ones are:\n",
    "\n",
    "1. `density_type`: this governs whether density is measured on $(s,s')$ pairs (`db.STATE_STATE_DENSITY`), $(s,a)$ pairs (`db.STATE_ACTION_DENSITY`), or single states (`db.STATE_DENSITY`).\n",
    "2. `is_stationary`: determines whether a separate density model is used for each time step $t$ (`False`), or the same model is used for transitions at all times (`True`).\n",
    "3. `standardise_inputs`: if `True`, each dimension of the agent state vectors will be normalised to have zero mean and unit variance over the training dataset. This can be useful when not all elements of the demonstration vector are on the same scale, or when some elements have too wide a variation to be captured by the fixed kernel width (1 for Gaussian kernel).\n",
    "4. `kernel`: changes the kernel used for non-parametric density estimation. `gaussian` and `exponential` are the best bets; see the [sklearn docs](https://scikit-learn.org/stable/modules/density.html#kernel-density) for the rest."
   ]
  },
  {
   "cell_type": "code",
   "execution_count": null,
   "metadata": {},
   "outputs": [],
   "source": [
    "%matplotlib inline\n",
    "#%load_ext autoreload\n",
    "#%autoreload 2\n",
    "\n",
    "import pprint\n",
    "\n",
    "from imitation.algorithms import density_baselines as db\n",
    "from imitation.data import types\n",
    "from imitation.util import util\n"
   ]
  },
  {
   "cell_type": "code",
   "execution_count": 5,
   "outputs": [],
   "source": [
    "# Set FAST = False for longer training. Use True for testing and CI.\n",
    "FAST = True\n",
    "\n",
    "if FAST:\n",
    "    N_VEC = 1\n",
    "    N_TRAJECTORIES = 1\n",
    "    N_ITERATIONS = 1\n",
    "    N_RL_TRAIN_STEPS = 100\n",
    "else:\n",
    "    N_VEC = 8\n",
    "    N_TRAJECTORIES = 10\n",
    "    N_ITERATIONS = 100\n",
    "    N_RL_TRAIN_STEPS = int(1e5)"
   ],
   "metadata": {
    "collapsed": false,
    "pycharm": {
     "name": "#%%\n",
     "is_executing": false
    }
   }
  },
  {
   "cell_type": "code",
   "execution_count": 6,
   "metadata": {
    "pycharm": {
     "is_executing": false
    }
   },
   "outputs": [
    {
     "name": "stdout",
     "text": [
      "Using cuda device\n"
     ],
     "output_type": "stream"
    }
   ],
   "source": [
    "env_name = 'Pendulum-v0'\n",
    "env = util.make_vec_env(env_name, N_VEC)\n",
    "rollouts = types.load(\"../tests/data/expert_models/pendulum_0/rollouts/final.pkl\")\n",
    "imitation_trainer = util.init_rl(env, learning_rate=3e-4, n_steps=2048)\n",
    "density_trainer = db.DensityTrainer(env,\n",
    "                                    rollouts=rollouts,\n",
    "                                    imitation_trainer=imitation_trainer,\n",
    "                                    density_type=db.STATE_ACTION_DENSITY,\n",
    "                                    is_stationary=False,\n",
    "                                    kernel='gaussian',\n",
    "                                    kernel_bandwidth=0.2,  # found using divination & some palm reading\n",
    "                                    standardise_inputs=True)"
   ]
  },
  {
   "cell_type": "code",
   "execution_count": 9,
   "metadata": {
    "pycharm": {
     "is_executing": false,
     "name": "#%%\n"
    }
   },
   "outputs": [
    {
     "name": "stdout",
     "text": [
      "Novice stats (true reward function):\n",
      "{'len_max': 200,\n",
      " 'len_mean': 200.0,\n",
      " 'len_min': 200,\n",
      " 'len_std': 0.0,\n",
      " 'monitor_return_max': -752.82168,\n",
      " 'monitor_return_mean': -1131.205182625,\n",
      " 'monitor_return_min': -1657.521542,\n",
      " 'monitor_return_std': 305.50521334928436,\n",
      " 'n_traj': 16,\n",
      " 'return_max': -752.8216825032141,\n",
      " 'return_mean': -1131.205183135724,\n",
      " 'return_min': -1657.5215420722961,\n",
      " 'return_std': 305.5052128183397}\n",
      "Novice stats (imitation reward function):\n",
      "{'len_max': 200,\n",
      " 'len_mean': 200.0,\n",
      " 'len_min': 200,\n",
      " 'len_std': 0.0,\n",
      " 'monitor_return_max': -862.943339,\n",
      " 'monitor_return_mean': -1190.088531375,\n",
      " 'monitor_return_min': -1705.445423,\n",
      " 'monitor_return_std': 241.9259323009541,\n",
      " 'n_traj': 8,\n",
      " 'return_max': -2427.1970858573914,\n",
      " 'return_mean': -2805.413653641939,\n",
      " 'return_min': -3132.2291457653046,\n",
      " 'return_std': 247.12990496317585}\n",
      "-----------------------------------------\n",
      "| rollout/                |             |\n",
      "|    ep_len_mean          | 200         |\n",
      "|    ep_rew_mean          | -1.19e+03   |\n",
      "| time/                   |             |\n",
      "|    fps                  | 4253        |\n",
      "|    iterations           | 1           |\n",
      "|    time_elapsed         | 11          |\n",
      "|    total_timesteps      | 48272       |\n",
      "| train/                  |             |\n",
      "|    approx_kl            | 0.014255062 |\n",
      "|    clip_fraction        | 0.0625      |\n",
      "|    clip_range           | 0.2         |\n",
      "|    entropy_loss         | -1.36       |\n",
      "|    explained_variance   | -1.01e+04   |\n",
      "|    learning_rate        | 0.0003      |\n",
      "|    loss                 | 2.11e+04    |\n",
      "|    n_updates            | 10          |\n",
      "|    policy_gradient_loss | -0.0133     |\n",
      "|    std                  | 0.922       |\n",
      "|    value_loss           | 4.88e+04    |\n",
      "-----------------------------------------\n",
      "Trained stats (epoch 0):\n",
      "{'len_max': 200,\n",
      " 'len_mean': 200.0,\n",
      " 'len_min': 200,\n",
      " 'len_std': 0.0,\n",
      " 'monitor_return_max': -780.185732,\n",
      " 'monitor_return_mean': -1096.66554025,\n",
      " 'monitor_return_min': -1312.042492,\n",
      " 'monitor_return_std': 155.31371732733464,\n",
      " 'n_traj': 8,\n",
      " 'return_max': -780.1857325099409,\n",
      " 'return_mean': -1096.6655394169502,\n",
      " 'return_min': -1312.0424931049347,\n",
      " 'return_std': 155.31371679565072}\n",
      "Trained stats (imitation reward function, epoch 0):\n",
      "{'len_max': 200,\n",
      " 'len_mean': 200.0,\n",
      " 'len_min': 200,\n",
      " 'len_std': 0.0,\n",
      " 'monitor_return_max': -825.882034,\n",
      " 'monitor_return_mean': -1135.171267125,\n",
      " 'monitor_return_min': -1677.579786,\n",
      " 'monitor_return_std': 280.25010118424416,\n",
      " 'n_traj': 16,\n",
      " 'return_max': -1797.2630412578583,\n",
      " 'return_mean': -2562.9467169372365,\n",
      " 'return_min': -3389.221230506897,\n",
      " 'return_std': 384.0039583522512}\n"
     ],
     "output_type": "stream"
    }
   ],
   "source": [
    "novice_stats = density_trainer.test_policy()\n",
    "print('Novice stats (true reward function):')\n",
    "pprint.pprint(novice_stats)\n",
    "novice_stats_im = density_trainer.test_policy(true_reward=False, n_trajectories=N_TRAJECTORIES)\n",
    "print('Novice stats (imitation reward function):')\n",
    "pprint.pprint(novice_stats_im)\n",
    "\n",
    "for i in range(N_ITERATIONS):\n",
    "    density_trainer.train_policy(N_RL_TRAIN_STEPS)\n",
    "\n",
    "    good_stats = density_trainer.test_policy(n_trajectories=N_TRAJECTORIES)\n",
    "    print(f'Trained stats (epoch {i}):')\n",
    "    pprint.pprint(good_stats)\n",
    "    novice_stats_im = density_trainer.test_policy(true_reward=False)\n",
    "    print(f'Trained stats (imitation reward function, epoch {i}):')\n",
    "    pprint.pprint(novice_stats_im)"
   ]
  },
  {
   "cell_type": "code",
   "execution_count": null,
   "outputs": [],
   "source": [
    "\n"
   ],
   "metadata": {
    "collapsed": false,
    "pycharm": {
     "name": "#%%\n"
    }
   }
  }
 ],
 "metadata": {
  "kernelspec": {
   "display_name": "Python 3",
   "language": "python",
   "name": "python3"
  },
  "language_info": {
   "codemirror_mode": {
    "name": "ipython",
    "version": 3
   },
   "file_extension": ".py",
   "mimetype": "text/x-python",
   "name": "python",
   "nbconvert_exporter": "python",
   "pygments_lexer": "ipython3",
   "version": "3.6.8"
  },
  "pycharm": {
   "stem_cell": {
    "cell_type": "raw",
    "source": [],
    "metadata": {
     "collapsed": false
    }
   }
  }
 },
 "nbformat": 4,
 "nbformat_minor": 4
}
